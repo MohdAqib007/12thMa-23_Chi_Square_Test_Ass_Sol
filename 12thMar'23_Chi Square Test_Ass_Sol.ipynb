{
 "cells": [
  {
   "cell_type": "code",
   "execution_count": 3,
   "id": "812141ee-28a4-4b80-84f4-637d80a90f12",
   "metadata": {},
   "outputs": [
    {
     "name": "stdout",
     "output_type": "stream",
     "text": [
      "Confidence Interval (95%): (47.65992796790045, 52.34007203209955)\n"
     ]
    }
   ],
   "source": [
    "#Q1. Calculate the 95% confidence interval for a sample of data with a mean of 50 and a standard deviation of 5 using Python. Interpret the results.\n",
    "#Ans-\n",
    "\n",
    "import scipy.stats as stats\n",
    "\n",
    "# Sample information\n",
    "sample_mean = 50\n",
    "sample_std_dev = 5\n",
    "sample_size = 20 # You need to provide the sample size (considering n = 20)\n",
    "\n",
    "# Calculate the standard error\n",
    "standard_error = sample_std_dev / (sample_size ** 0.5)\n",
    "\n",
    "# Calculate the margin of error\n",
    "margin_of_error = stats.t.ppf(0.975, df=sample_size - 1) * standard_error\n",
    "\n",
    "# Calculate the confidence interval\n",
    "confidence_interval = (sample_mean - margin_of_error, sample_mean + margin_of_error)\n",
    "\n",
    "# Print the confidence interval\n",
    "print(\"Confidence Interval (95%):\", confidence_interval)\n"
   ]
  },
  {
   "cell_type": "code",
   "execution_count": null,
   "id": "cf70b9d9-95fb-40ee-a5fb-31aafacc6b5f",
   "metadata": {},
   "outputs": [],
   "source": [
    "#Q2. Conduct a chi-square goodness of fit test to determine if the distribution of colors of M&Ms in a bag matches the expected distribution of 20% blue, 20% orange, 20% green, 10% yellow, 10% red, and 20% brown. Use Python to perform the test with a significance level of 0.05.\n",
    "#Ans-\n",
    "'''To conduct a chi-square goodness of fit test to determine if the distribution of colors of M&Ms in a bag matches the expected distribution, you can use the scipy library in Python. Here's how you can perform the test: '''\n",
    "\n",
    "import scipy.stats as stats\n",
    "\n",
    "# Observed frequencies\n",
    "observed = [???, ???, ???, ???, ???, ???]  # You need to provide the observed frequencies for each color\n",
    "\n",
    "# Expected frequencies\n",
    "expected = [0.20, 0.20, 0.20, 0.10, 0.10, 0.20]  # Expected proportions for each color\n",
    "\n",
    "# Perform chi-square goodness of fit test\n",
    "chi2_stat, p_value = stats.chisquare(f_obs=observed, f_exp=[expected[i]*sum(observed) for i in range(len(expected))])\n",
    "\n",
    "# Print the test results\n",
    "print(\"Chi-square statistic:\", chi2_stat)\n",
    "print(\"p-value:\", p_value)\n",
    "\n",
    "# Check if the null hypothesis is rejected or not\n",
    "alpha = 0.05  # Significance level\n",
    "if p_value < alpha:\n",
    "    print(\"The distribution of colors in the M&Ms bag does not match the expected distribution.\")\n",
    "else:\n",
    "    print(\"The distribution of colors in the M&Ms bag matches the expected distribution.\")\n",
    "\n",
    "\n",
    "    \n",
    "''''Note: In the code above, you need to provide the observed frequencies for each color in the observed list. Ensure that the observed frequencies are in the same order as the expected proportions in the expected list.\n",
    "\n",
    "The chi-square goodness of fit test compares the observed frequencies with the expected frequencies and calculates a chi-square statistic. \n",
    "The p-value obtained from the test indicates the probability of observing the data or more extreme data if the null hypothesis is true. In this case, the null hypothesis is that the distribution of colors in the M&Ms bag matches the expected distribution.\n",
    "\n",
    "If the p-value is less than the chosen significance level (0.05 in this case), we reject the null hypothesis and conclude that the distribution of colors in the M&Ms bag does not match the expected distribution. \n",
    "Conversely, if the p-value is greater than the significance level, we fail to reject the null hypothesis and conclude that the distribution of colors in the M&Ms bag matches the expected distribution.'''"
   ]
  },
  {
   "cell_type": "code",
   "execution_count": 6,
   "id": "8ce6e944-85c9-4e83-ab4c-85c692c4b859",
   "metadata": {},
   "outputs": [
    {
     "name": "stdout",
     "output_type": "stream",
     "text": [
      "Chi-square statistic: 5.833333333333334\n",
      "p-value: 0.05411376622282158\n",
      "There is no evidence of an association between the groups.\n"
     ]
    }
   ],
   "source": [
    "#Q3. Use Python to calculate the chi-square statistic and p-value for a contingency table with the following data:  Group A (20, 10, 15),  Group B (15, 25, 20) Interpret the results of the test.\n",
    "#Ans-\n",
    "\n",
    "import scipy.stats as stats\n",
    "import numpy as np\n",
    "\n",
    "# Contingency table\n",
    "observed = np.array([[20, 10, 15], [15, 25, 20]])\n",
    "\n",
    "# Perform chi-square test of independence\n",
    "chi2_stat, p_value, _, _ = stats.chi2_contingency(observed)\n",
    "\n",
    "# Print the test results\n",
    "print(\"Chi-square statistic:\", chi2_stat)\n",
    "print(\"p-value:\", p_value)\n",
    "\n",
    "# Check if the null hypothesis is rejected or not\n",
    "alpha = 0.05  # Significance level\n",
    "if p_value < alpha:\n",
    "    print(\"There is evidence of an association between the groups.\")\n",
    "else:\n",
    "    print(\"There is no evidence of an association between the groups.\")\n"
   ]
  },
  {
   "cell_type": "code",
   "execution_count": 7,
   "id": "90acf93e-791c-4d61-b0fd-81f659cfac91",
   "metadata": {},
   "outputs": [
    {
     "name": "stdout",
     "output_type": "stream",
     "text": [
      "Confidence Interval (95%): (0.09151638887130706, 0.14848361112869293)\n"
     ]
    }
   ],
   "source": [
    "#Q4. A study of the prevalence of smoking in a population of 500 individuals found that 60 individuals smoked. Use Python to calculate the 95% confidence interval for the true proportion of individuals in the population who smoke.\n",
    "#Ans-\n",
    "'''To calculate the 95% confidence interval for the true proportion of individuals in the population who smoke using Python, you can use the statsmodels library. \n",
    "Here's how you can do it:'''\n",
    "\n",
    "import statsmodels.stats.proportion as proportion\n",
    "\n",
    "# Sample information\n",
    "sample_size = 500\n",
    "sample_smokers = 60\n",
    "\n",
    "# Calculate the confidence interval\n",
    "conf_interval = proportion.proportion_confint(sample_smokers, sample_size, alpha=0.05, method='normal')\n",
    "\n",
    "# Print the confidence interval\n",
    "print(\"Confidence Interval (95%):\", conf_interval)\n",
    "\n"
   ]
  },
  {
   "cell_type": "code",
   "execution_count": null,
   "id": "43ed6765-c337-40fa-b38e-f842192bebb9",
   "metadata": {},
   "outputs": [],
   "source": [
    "'''The proportion_confint function from the statsmodels.stats.proportion module calculates the confidence interval for a proportion using the normal approximation method.\n",
    "\n",
    "Interpretation of the results:\n",
    "The 95% confidence interval for the true proportion of individuals in the population who smoke is represented by the lower and upper bounds. \n",
    "This interval suggests that if we were to repeat the study multiple times and calculate the confidence intervals, we would expect the true population proportion to fall within this range approximately 95% of the time.\n",
    "\n",
    "The lower and upper bounds of the confidence interval provide an estimate of the range within which the true proportion of smokers in the population is likely to lie.'''"
   ]
  },
  {
   "cell_type": "code",
   "execution_count": null,
   "id": "1297f31e-51da-4853-a12b-7b71e9d0ec25",
   "metadata": {},
   "outputs": [],
   "source": [
    "#Q5. Calculate the 90% confidence interval for a sample of data with a mean of 75 and a standard deviation of 12 using Python. Interpret the results.\n",
    "\n",
    "#Ans-\n",
    "\n",
    "import scipy.stats as stats\n",
    "\n",
    "# Sample information\n",
    "sample_mean = 75\n",
    "sample_std_dev = 12\n",
    "sample_size = ???  # You need to provide the sample size\n",
    "\n",
    "# Calculate the standard error\n",
    "standard_error = sample_std_dev / (sample_size ** 0.5)\n",
    "\n",
    "# Calculate the margin of error\n",
    "margin_of_error = stats.t.ppf(0.95, df=sample_size - 1) * standard_error\n",
    "\n",
    "# Calculate the confidence interval\n",
    "confidence_interval = (sample_mean - margin_of_error, sample_mean + margin_of_error)\n",
    "\n",
    "# Print the confidence interval\n",
    "print(\"Confidence Interval (90%):\", confidence_interval)\n",
    "\n",
    "'''Note: In the code above, you need to provide the sample size (sample_size) to calculate the confidence interval accurately.\n",
    "\n",
    "Interpretation of the results:\n",
    "The 90% confidence interval for the sample data with a mean of 75 and a standard deviation of 12 is represented by the lower and upper bounds. It suggests that if we were to repeat the sampling process multiple times and calculate the confidence intervals, we would expect the true population mean to fall within this range approximately 90% of the time.\n",
    "\n",
    "The lower and upper bounds of the confidence interval provide an estimate of the range within which the true population mean is likely to lie. In this case, the interval gives us an indication that the population mean is likely to be somewhere between the lower and upper bounds, with a 90% level of confidence.'''"
   ]
  },
  {
   "cell_type": "code",
   "execution_count": 9,
   "id": "7271d575-6cc1-4e6f-aefd-200b7ce1640e",
   "metadata": {},
   "outputs": [
    {
     "data": {
      "image/png": "[encoded data removed]",
      "text/plain": [
       "<Figure size 640x480 with 1 Axes>"
      ]
     },
     "metadata": {},
     "output_type": "display_data"
    }
   ],
   "source": [
    "#Q6. Use Python to plot the chi-square distribution with 10 degrees of freedom. Label the axes and shade the area corresponding to a chi-square statistic of 15.\n",
    "#Ans-\n",
    "\n",
    "import numpy as np\n",
    "import matplotlib.pyplot as plt\n",
    "import scipy.stats as stats\n",
    "\n",
    "# Degrees of freedom\n",
    "df = 10\n",
    "\n",
    "# Define the range of x values\n",
    "x = np.linspace(0, 30, 500)\n",
    "\n",
    "# Calculate the chi-square probability density function (pdf)\n",
    "pdf = stats.chi2.pdf(x, df)\n",
    "\n",
    "# Create the plot\n",
    "plt.plot(x, pdf, label=f\"df = {df}\")\n",
    "plt.fill_between(x, pdf, where=(x >= 15), color='grey', alpha=0.5)\n",
    "\n",
    "# Add labels and title\n",
    "plt.xlabel('Chi-square statistic')\n",
    "plt.ylabel('Probability Density Function')\n",
    "plt.title('Chi-square Distribution')\n",
    "\n",
    "# Show the legend\n",
    "plt.legend()\n",
    "\n",
    "# Display the plot\n",
    "plt.show()\n"
   ]
  },
  {
   "cell_type": "code",
   "execution_count": null,
   "id": "888277b8-8073-44a2-a337-901a91f95d06",
   "metadata": {},
   "outputs": [],
   "source": [
    "'''In the code above, we use numpy to generate a range of x values for the plot, and scipy.stats.chi2 to calculate the chi-square probability density function (pdf) for the given degrees of freedom (df). We then plot the pdf using matplotlib.pyplot.plot() and shade the area where the chi-square statistic is greater than or equal to 15 using matplotlib.pyplot.fill_between().\n",
    "\n",
    "The resulting plot displays the chi-square distribution with 10 degrees of freedom, labeled axes, and the shaded area corresponding to a chi-square statistic of 15.'''"
   ]
  },
  {
   "cell_type": "code",
   "execution_count": 10,
   "id": "f966a27d-e949-4ee1-9691-12c1d3c9bdc6",
   "metadata": {},
   "outputs": [
    {
     "name": "stdout",
     "output_type": "stream",
     "text": [
      "Confidence Interval (99%): (0.4793051576779699, 0.5606948423220302)\n"
     ]
    }
   ],
   "source": [
    "#Q7. A random sample of 1000 people was asked if they preferred Coke or Pepsi. Of the sample, 520 preferred Coke. Calculate a 99% confidence interval for the true proportion of people in the population who prefer Coke.\n",
    "#Ans-\n",
    "import statsmodels.stats.proportion as proportion\n",
    "\n",
    "# Sample information\n",
    "sample_size = 1000\n",
    "sample_preferred_coke = 520\n",
    "\n",
    "# Calculate the confidence interval\n",
    "conf_interval = proportion.proportion_confint(sample_preferred_coke, sample_size, alpha=0.01, method='normal')\n",
    "\n",
    "# Print the confidence interval\n",
    "print(\"Confidence Interval (99%):\", conf_interval)\n"
   ]
  },
  {
   "cell_type": "code",
   "execution_count": null,
   "id": "a46abe23-b588-4d7c-bdbc-be11bba40cce",
   "metadata": {},
   "outputs": [],
   "source": [
    "'''The proportion_confint function from the statsmodels.stats.proportion module calculates the confidence interval for a proportion using the normal approximation method.\n",
    "\n",
    "Interpretation of the results:\n",
    "The 99% confidence interval for the true proportion of people in the population who prefer Coke is represented by the lower and upper bounds. This interval suggests that if we were to repeat the sampling process multiple times and calculate the confidence intervals, we would expect the true population proportion to fall within this range approximately 99% of the time.\n",
    "\n",
    "The lower and upper bounds of the confidence interval provide an estimate of the range within which the true proportion of people in the population who prefer Coke is likely to lie.'''"
   ]
  },
  {
   "cell_type": "code",
   "execution_count": null,
   "id": "dbe6bea4-e2f9-4cb7-b1b0-c57d3d2b4d14",
   "metadata": {},
   "outputs": [],
   "source": []
  },
  {
   "cell_type": "code",
   "execution_count": 11,
   "id": "151d6bd2-56ed-4ec8-9ab2-b3484817164a",
   "metadata": {},
   "outputs": [
    {
     "name": "stdout",
     "output_type": "stream",
     "text": [
      "Chi-square statistic: 1.0\n",
      "p-value: 0.31731050786291115\n",
      "The observed frequencies match the expected frequencies of a fair coin.\n"
     ]
    }
   ],
   "source": [
    "#Q8. A researcher hypothesizes that a coin is biased towards tails. They flip the coin 100 times and observe 45 tails. Conduct a chi-square goodness of fit test to determine if the observed frequencies match the expected frequencies of a fair coin. Use a significance level of 0.05.\n",
    "#Ans-\n",
    "\n",
    "import scipy.stats as stats\n",
    "\n",
    "# Observed frequencies\n",
    "observed = [45, 55]  # [tails, heads]\n",
    "\n",
    "# Expected frequencies\n",
    "expected = [50, 50]  # Assuming a fair coin\n",
    "\n",
    "# Perform chi-square goodness of fit test\n",
    "chi2_stat, p_value = stats.chisquare(f_obs=observed, f_exp=expected)\n",
    "\n",
    "# Print the test results\n",
    "print(\"Chi-square statistic:\", chi2_stat)\n",
    "print(\"p-value:\", p_value)\n",
    "\n",
    "# Check if the null hypothesis is rejected or not\n",
    "alpha = 0.05  # Significance level\n",
    "if p_value < alpha:\n",
    "    print(\"The observed frequencies do not match the expected frequencies of a fair coin.\")\n",
    "else:\n",
    "    print(\"The observed frequencies match the expected frequencies of a fair coin.\")\n"
   ]
  },
  {
   "cell_type": "code",
   "execution_count": null,
   "id": "98a09771-594d-4a32-87de-bd13d38440ec",
   "metadata": {},
   "outputs": [],
   "source": [
    "'''The chi-square goodness of fit test compares the observed frequencies with the expected frequencies assuming a fair coin. The null hypothesis is that the observed frequencies match the expected frequencies.\n",
    "\n",
    "The chi-square statistic measures the difference between the observed frequencies and the expected frequencies. The p-value represents the probability of observing the data or more extreme data if the null hypothesis is true.\n",
    "\n",
    "If the p-value is less than the chosen significance level (0.05 in this case), we reject the null hypothesis and conclude that the observed frequencies do not match the expected frequencies of a fair coin. \n",
    "Conversely, if the p-value is greater than the significance level, we fail to reject the null hypothesis and conclude that the observed frequencies match the expected frequencies of a fair coin.\n",
    "\n",
    "After performing the test, you can interpret the results based on the obtained p-value to determine whether there is evidence that the coin is biased towards tails or not.'''"
   ]
  },
  {
   "cell_type": "code",
   "execution_count": 12,
   "id": "89dfc29f-da59-4ef7-bc9e-c980f0a42191",
   "metadata": {},
   "outputs": [
    {
     "name": "stdout",
     "output_type": "stream",
     "text": [
      "Chi-square statistic: 2.8252406554019474\n",
      "p-value: 0.09279298250494766\n",
      "There is no evidence of an association between smoking status and lung cancer diagnosis.\n"
     ]
    }
   ],
   "source": [
    "#Q9. A study was conducted to determine if there is an association between smoking status (smoker or non-smoker) and lung cancer diagnosis (yes or no). The results are shown in the contingency table below. Conduct a chi-square test for independence to determine if there is a significant association between smoking status and lung cancer diagnosis.\n",
    "'''For smoker:\n",
    "Lung Cancer: Yes (40)\n",
    "Lung Cancer: No (140)\n",
    "\n",
    "For non-smoker:\n",
    "Lung Cancer: Yes (30)\n",
    "Lung Cancer: No (170)\n",
    "\n",
    "Use a significance level of 0.05.'''\n",
    "\n",
    "#Ans-\n",
    "\n",
    "import scipy.stats as stats\n",
    "import numpy as np\n",
    "\n",
    "# Contingency table\n",
    "observed = np.array([[40, 140], [30, 170]])\n",
    "\n",
    "# Perform chi-square test for independence\n",
    "chi2_stat, p_value, _, _ = stats.chi2_contingency(observed)\n",
    "\n",
    "# Print the test results\n",
    "print(\"Chi-square statistic:\", chi2_stat)\n",
    "print(\"p-value:\", p_value)\n",
    "\n",
    "# Check if the null hypothesis is rejected or not\n",
    "alpha = 0.05  # Significance level\n",
    "if p_value < alpha:\n",
    "    print(\"There is evidence of an association between smoking status and lung cancer diagnosis.\")\n",
    "else:\n",
    "    print(\"There is no evidence of an association between smoking status and lung cancer diagnosis.\")\n"
   ]
  },
  {
   "cell_type": "code",
   "execution_count": null,
   "id": "20c7969f-be6b-4ad1-aba2-c18c126978ad",
   "metadata": {},
   "outputs": [],
   "source": [
    "'''The chi-square test for independence is used to determine if there is an association between two categorical variables. In this case, we have smoking status (smoker or non-smoker) and lung cancer diagnosis (yes or no).\n",
    "\n",
    "The contingency table represents the observed frequencies for each combination of smoking status and lung cancer diagnosis.\n",
    "\n",
    "The chi-square statistic measures the difference between the observed frequencies and the frequencies we would expect if there were no association between smoking status and lung cancer diagnosis. The p-value represents the probability of observing the data or more extreme data if the null hypothesis of independence is true.\n",
    "\n",
    "If the p-value is less than the chosen significance level (0.05 in this case), we reject the null hypothesis and conclude that there is evidence of an association between smoking status and lung cancer diagnosis. In other words, the observed frequencies are significantly different from what we would expect if smoking status and lung cancer diagnosis were independent.\n",
    "\n",
    "Conversely, if the p-value is greater than the significance level, we fail to reject the null hypothesis and conclude that there is no evidence of an association between smoking status and lung cancer diagnosis. In this case, the observed frequencies are not significantly different from what we would expect under the assumption of independence.\n",
    "\n",
    "Therefore, after performing the test, you can interpret the results based on the obtained p-value to determine whether there is a significant association between smoking status and lung cancer diagnosis.'''"
   ]
  },
  {
   "cell_type": "code",
   "execution_count": 14,
   "id": "835da04a-f880-4963-a31c-1d915f8988b1",
   "metadata": {},
   "outputs": [
    {
     "name": "stdout",
     "output_type": "stream",
     "text": [
      "Chi-square statistic: 13.393665158371041\n",
      "p-value: 0.0012348168997745918\n",
      "There is evidence of an association between chocolate preference and country of origin.\n"
     ]
    }
   ],
   "source": [
    "'''Q10. A study was conducted to determine if the proportion of people who prefer milk chocolate, dark chocolate, or white chocolate is different in the U.S. versus the U.K. A random sample of 500 people from the U.S. and a random sample of 500 people from the U.K. were surveyed. \n",
    "The results are shown in the contingency table below. Conduct a chi-square test for independence to determine if there is a significant association between chocolate preference and country of origin.\n",
    "For U.S (n=500) : {milk chocolate, dark chocolate, white chocolate : 200, 150, 150}\n",
    "For U.K (n=500) : {milk chocolate, dark chocolate, white chocolate :225, 175, 100}\n",
    "Use a significance level of 0.01.'''\n",
    "\n",
    "#Ans-\n",
    "\n",
    "import scipy.stats as stats\n",
    "import numpy as np\n",
    "\n",
    "# Contingency table\n",
    "observed = np.array([[200, 150, 150], [225, 175, 100]])\n",
    "\n",
    "# Perform chi-square test for independence\n",
    "chi2_stat, p_value, _, _ = stats.chi2_contingency(observed)\n",
    "\n",
    "# Print the test results\n",
    "print(\"Chi-square statistic:\", chi2_stat)\n",
    "print(\"p-value:\", p_value)\n",
    "\n",
    "# Check if the null hypothesis is rejected or not\n",
    "alpha = 0.01  # Significance level\n",
    "if p_value < alpha:\n",
    "    print(\"There is evidence of an association between chocolate preference and country of origin.\")\n",
    "else:\n",
    "    print(\"There is no evidence of an association between chocolate preference and country of origin.\")\n"
   ]
  },
  {
   "cell_type": "code",
   "execution_count": 15,
   "id": "aa44161e-b9a3-4f87-b57e-8ee8bf67886b",
   "metadata": {},
   "outputs": [
    {
     "name": "stdout",
     "output_type": "stream",
     "text": [
      "t-statistic: 1.0954451150103321\n",
      "p-value: 0.2823362372860698\n",
      "There is no significant difference between the population mean and 70.\n"
     ]
    }
   ],
   "source": [
    "#Q11. A random sample of 30 people was selected from a population with an unknown mean and standard deviation. The sample mean was found to be 72 and the sample standard deviation was found to be 10. Conduct a hypothesis test to determine if the population mean is significantly different from 70. Use a significance level of 0.05.\n",
    "#Ans-\n",
    "\n",
    "import scipy.stats as stats\n",
    "\n",
    "# Sample information\n",
    "sample_size = 30\n",
    "sample_mean = 72\n",
    "sample_std_dev = 10\n",
    "population_mean = 70\n",
    "\n",
    "# Calculate the t-statistic\n",
    "t_stat = (sample_mean - population_mean) / (sample_std_dev / (sample_size ** 0.5))\n",
    "\n",
    "# Calculate the degrees of freedom\n",
    "degrees_of_freedom = sample_size - 1\n",
    "\n",
    "# Calculate the p-value (two-tailed test)\n",
    "p_value = 2 * (1 - stats.t.cdf(abs(t_stat), df=degrees_of_freedom))\n",
    "\n",
    "# Print the test results\n",
    "print(\"t-statistic:\", t_stat)\n",
    "print(\"p-value:\", p_value)\n",
    "\n",
    "# Check if the null hypothesis is rejected or not\n",
    "alpha = 0.05  # Significance level\n",
    "if p_value < alpha:\n",
    "    print(\"The population mean is significantly different from 70.\")\n",
    "else:\n",
    "    print(\"There is no significant difference between the population mean and 70.\")\n"
   ]
  },
  {
   "cell_type": "code",
   "execution_count": null,
   "id": "627426bc-db59-4952-8b02-542835e0e120",
   "metadata": {},
   "outputs": [],
   "source": [
    "'''The hypothesis test is conducted using a t-test, assuming that the population standard deviation is unknown.\n",
    "\n",
    "The t-statistic is calculated by taking the difference between the sample mean and the hypothesized population mean (70), divided by the standard error of the mean (sample_std_dev / sqrt(sample_size)).\n",
    "\n",
    "The degrees of freedom is equal to the sample size minus 1 (sample_size - 1) for a one-sample t-test.\n",
    "\n",
    "The p-value is calculated based on the t-distribution with the degrees of freedom. For a two-tailed test, we multiply the p-value by 2 to account for both tails.\n",
    "\n",
    "If the p-value is less than the chosen significance level (0.05 in this case), we reject the null hypothesis and conclude that there is a significant difference between the population mean and 70. \n",
    "In other words, the sample provides evidence that the population mean is significantly different from 70.\n",
    "\n",
    "Conversely, if the p-value is greater than the significance level, we fail to reject the null hypothesis and conclude that there is no significant difference between the population mean and 70. \n",
    "In this case, the sample does not provide sufficient evidence to conclude that the population mean is significantly different from 70.\n",
    "\n",
    "Therefore, after performing the test, you can interpret the results based on the obtained p-value to determine whether the population mean is significantly different from 70 or not.'''"
   ]
  },
  {
   "cell_type": "code",
   "execution_count": null,
   "id": "614b1566-7b83-406f-ab90-8f45fba77e41",
   "metadata": {},
   "outputs": [],
   "source": []
  }
 ],
 "metadata": {
  "kernelspec": {
   "display_name": "Python 3 (ipykernel)",
   "language": "python",
   "name": "python3"
  },
  "language_info": {
   "codemirror_mode": {
    "name": "ipython",
    "version": 3
   },
   "file_extension": ".py",
   "mimetype": "text/x-python",
   "name": "python",
   "nbconvert_exporter": "python",
   "pygments_lexer": "ipython3",
   "version": "3.10.8"
  }
 },
 "nbformat": 4,
 "nbformat_minor": 5
}
